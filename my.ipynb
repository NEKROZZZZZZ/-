{
 "cells": [
  {
   "cell_type": "markdown",
   "metadata": {},
   "source": [
    "Импортируем нужные нам библиотеки"
   ]
  },
  {
   "cell_type": "code",
   "execution_count": null,
   "metadata": {
    "vscode": {
     "languageId": "plaintext"
    }
   },
   "outputs": [],
   "source": [
    "import pandas as pd\n",
    "import numpy as np\n",
    "import matplotlib.pyplot as plt\n",
    "import seaborn as sns\n",
    "import csv\n",
    "import warnings\n",
    "warnings.simplefilter('ignore')\n",
    "import missingno as msn"
   ]
  },
  {
   "cell_type": "markdown",
   "metadata": {},
   "source": [
    "Открываем наши данные"
   ]
  },
  {
   "cell_type": "code",
   "execution_count": null,
   "metadata": {
    "vscode": {
     "languageId": "plaintext"
    }
   },
   "outputs": [],
   "source": [
    "df = pd.read_csv('8K.csv')"
   ]
  },
  {
   "cell_type": "markdown",
   "metadata": {},
   "source": [
    "Убираем не нужные данные"
   ]
  },
  {
   "cell_type": "code",
   "execution_count": null,
   "metadata": {
    "vscode": {
     "languageId": "plaintext"
    }
   },
   "outputs": [],
   "source": [
    "del df['accommodation_type'] # Это тип дома\n",
    "del df['deal_type'] # Тип сделки\n",
    "del df['residential_complex'] # Не особо надо\n",
    "del df['heating_type'] # Обогрев\n",
    "del df['object_type'] # Не понятно что\n",
   ]
  },
  {
   "cell_type": "markdown",
   "metadata": {},
   "source": [
    "Чистим"
   ]
  },
  {
   "cell_type": "code",
   "execution_count": null,
   "metadata": {
    "vscode": {
     "languageId": "plaintext"
    }
   },
   "outputs": [],
   "source": [
    "df_replaced = df.replace(-1,np.nan)\n",
    "df_replaced = df_replaced.replace(\"-1\",np.nan)\n",
    "df_replaced = df_replaced.replace(-1.0,np.nan)\n",
    "df_replaced = df_replaced.replace(\"-1.0\",np.nan)\n",
    "df_replaced.to_csv(\"cleaned_8K.csv\", index=False)"
   ]
  },
  {
   "cell_type": "markdown",
   "metadata": {},
   "source": [
    "Открываем уже очищенные данные"
   ]
  },
  {
   "cell_type": "code",
   "execution_count": null,
   "metadata": {
    "vscode": {
     "languageId": "plaintext"
    }
   },
   "outputs": [],
   "source": [
    "df = pd.read_csv('cleaned_8K.csv')\n",
    "dash_info = pd.read_csv('dash_info_fifth.csv')\n",
    "dash_info.sort_values([\"price_for_meter\"], axis=0, ascending=[False], inplace=True)"
   ]
  },
  {
   "cell_type": "markdown",
   "metadata": {},
   "source": [
    "Данные для верхнего графика"
   ]
  },
  {
   "cell_type": "code",
   "execution_count": null,
   "metadata": {
    "vscode": {
     "languageId": "plaintext"
    }
   },
   "outputs": [],
   "source": [
    "list_of_cities = df['location'].unique()\n",
    "\n",
    "def price_for_meter(location):\n",
    "    city = df[df['location']==location]\n",
    "    city_price = city['price'].sum()\n",
    "\n",
    "    cleaned_data = [x.replace(\"м²\", \"\").strip() for x in city['total_meters']]\n",
    "    cleaned_data = [x.replace(\"-1\", \"0\").strip() for x in cleaned_data]\n",
    "    cleaned_data = [x.replace(\"���\", \"0\").strip() for x in cleaned_data]\n",
    "    cleaned_data = pd.to_numeric([x.replace(\",\", \".\").strip() for x in cleaned_data]).sum() \n",
    "    \n",
    "    # cleaned_data = city['total_meters'].sum()\n",
    "    return round(city_price/cleaned_data,2)\n",
    "\n",
    "with open(\"dash_info_fourth.csv\", 'w', newline='', encoding='UTF-8') as csvfile:\n",
    "    fieldnames = ['city', 'price_for_meter']\n",
    "    writer = csv.DictWriter(csvfile, fieldnames=fieldnames)\n",
    "    writer.writeheader()\n",
    "    for city in list_of_cities:\n",
    "        writer.writerow({'city': city, 'price_for_meter': price_for_meter(city)})"
   ]
  },
  {
   "cell_type": "markdown",
   "metadata": {},
   "source": [
    "Выводим графики"
   ]
  },
  {
   "cell_type": "code",
   "execution_count": null,
   "metadata": {
    "vscode": {
     "languageId": "plaintext"
    }
   },
   "outputs": [],
   "source": [
    "figs, axs = plt.subplots(2,2, figsize=(30,14))\n",
    "\n",
    "sns.set_theme(style='whitegrid', palette='dark:pink')\n",
    "sns.barplot(hue='city', legend=False, x='city', y='price_for_meter', data=dash_info, ax=axs[0,0], palette='magma')\n",
    "axs[0,0].set_title('Цена за кв^2 в городах')\n",
    "axs[0,0].set_xticklabels(axs[0,0].get_xticklabels(), rotation=50, ha='right')\n",
    "axs[0,0].set_ylabel('Цена за м^2')\n",
    "axs[0,0].set_xlabel('Города')\n",
    "\n",
    "sns.set_theme(style='whitegrid', palette='dark:pink')\n",
    "sns.countplot(x='location', hue='location', legend=False, data=df, ax=axs[1,0], order=df['location'].value_counts().index, palette='crest')\n",
    "axs[1,0].set_title('Количество городов')\n",
    "axs[1,0].set_xticklabels(axs[1,0].get_xticklabels(), rotation=60, ha='right')\n",
    "axs[1,0].set_ylabel('Количество')\n",
    "\n",
    "colours = ['#000000', '#ff0000'] \n",
    "# sns.heatmap(df[df.columns].isnull(), cmap=sns.color_palette(colours), ax=axs[0,1])\n",
    "msn.bar(df, ax=axs[0,1], fontsize=10, color=(1, 0.75, 0.8))\n",
    "axs[0,1].set_title('Праведность данных')\n",
    "axs[0,1].set_xticklabels(axs[0,1].get_xticklabels(), rotation=50, ha='right')\n",
    "axs[0,1].set_ylabel('Объявления')\n",
    "axs[0,1].set_xlabel('')\n",
    "axs[0,1].grid(False)\n",
    "\n",
    "plt.show()\n",
    "\n",
    "dash = pd.read_csv('years_count.csv')\n",
    "\n",
    "plt.subplots(figsize=(24,5))\n",
    "\n",
    "plot = sns.barplot(x='year_of_construction', y='count', data=dash, palette='flare', orient='v')\n",
    "plot.set_xticklabels(plot.get_xticklabels(), rotation=90, ha='right')\n",
    "sns.despine(left=True, bottom=True)\n",
    "print(\".\")\n",
    "\n",
    "plt.show()"
   ]
  }
 ],
 "metadata": {
  "language_info": {
   "name": "python"
  }
 },
 "nbformat": 4,
 "nbformat_minor": 2
}
